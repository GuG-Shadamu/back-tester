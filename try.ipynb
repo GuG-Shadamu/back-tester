{
 "cells": [
  {
   "cell_type": "code",
   "execution_count": 2,
   "metadata": {},
   "outputs": [],
   "source": [
    "import polars as pl"
   ]
  },
  {
   "cell_type": "code",
   "execution_count": 69,
   "metadata": {},
   "outputs": [
    {
     "data": {
      "text/html": [
       "<div><style>\n",
       ".dataframe > thead > tr > th,\n",
       ".dataframe > tbody > tr > td {\n",
       "  text-align: right;\n",
       "}\n",
       "</style>\n",
       "<small>shape: (20_098, 6)</small><table border=\"1\" class=\"dataframe\"><thead><tr><th>time</th><th>open</th><th>high</th><th>low</th><th>close</th><th>volume</th></tr><tr><td>str</td><td>f64</td><td>f64</td><td>f64</td><td>f64</td><td>u64</td></tr></thead><tbody><tr><td>&quot;20230402 18010…</td><td>1.35045</td><td>1.3505</td><td>1.35007</td><td>1.35008</td><td>0</td></tr><tr><td>&quot;20230402 18020…</td><td>1.35008</td><td>1.35081</td><td>1.35008</td><td>1.35078</td><td>0</td></tr><tr><td>&quot;20230402 18030…</td><td>1.35077</td><td>1.35104</td><td>1.35077</td><td>1.35102</td><td>0</td></tr><tr><td>&quot;20230402 18040…</td><td>1.35098</td><td>1.35098</td><td>1.35054</td><td>1.35054</td><td>0</td></tr><tr><td>&quot;20230402 18050…</td><td>1.35055</td><td>1.35055</td><td>1.35026</td><td>1.35031</td><td>0</td></tr><tr><td>&quot;20230402 18060…</td><td>1.35038</td><td>1.35066</td><td>1.35038</td><td>1.35065</td><td>0</td></tr><tr><td>&quot;20230402 18070…</td><td>1.35066</td><td>1.35103</td><td>1.35065</td><td>1.35082</td><td>0</td></tr><tr><td>&quot;20230402 18080…</td><td>1.35082</td><td>1.35102</td><td>1.35082</td><td>1.35101</td><td>0</td></tr><tr><td>&quot;20230402 18090…</td><td>1.35102</td><td>1.35102</td><td>1.35101</td><td>1.35101</td><td>0</td></tr><tr><td>&quot;20230402 18100…</td><td>1.3511</td><td>1.35121</td><td>1.35101</td><td>1.3511</td><td>0</td></tr><tr><td>&quot;20230402 18110…</td><td>1.35105</td><td>1.35111</td><td>1.35103</td><td>1.35111</td><td>0</td></tr><tr><td>&quot;20230402 18120…</td><td>1.35112</td><td>1.35117</td><td>1.35101</td><td>1.35101</td><td>0</td></tr><tr><td>&hellip;</td><td>&hellip;</td><td>&hellip;</td><td>&hellip;</td><td>&hellip;</td><td>&hellip;</td></tr><tr><td>&quot;20230430 23470…</td><td>1.35546</td><td>1.35546</td><td>1.35538</td><td>1.35538</td><td>0</td></tr><tr><td>&quot;20230430 23480…</td><td>1.35538</td><td>1.3554</td><td>1.35533</td><td>1.35535</td><td>0</td></tr><tr><td>&quot;20230430 23490…</td><td>1.35534</td><td>1.35534</td><td>1.35522</td><td>1.35524</td><td>0</td></tr><tr><td>&quot;20230430 23500…</td><td>1.35525</td><td>1.35529</td><td>1.35522</td><td>1.35525</td><td>0</td></tr><tr><td>&quot;20230430 23510…</td><td>1.35526</td><td>1.35526</td><td>1.3552</td><td>1.35521</td><td>0</td></tr><tr><td>&quot;20230430 23520…</td><td>1.35521</td><td>1.35527</td><td>1.35521</td><td>1.35524</td><td>0</td></tr><tr><td>&quot;20230430 23530…</td><td>1.35525</td><td>1.35526</td><td>1.35508</td><td>1.35508</td><td>0</td></tr><tr><td>&quot;20230430 23540…</td><td>1.35507</td><td>1.35518</td><td>1.35507</td><td>1.35516</td><td>0</td></tr><tr><td>&quot;20230430 23550…</td><td>1.35516</td><td>1.3552</td><td>1.35512</td><td>1.35517</td><td>0</td></tr><tr><td>&quot;20230430 23560…</td><td>1.35514</td><td>1.35515</td><td>1.35506</td><td>1.35506</td><td>0</td></tr><tr><td>&quot;20230430 23570…</td><td>1.35506</td><td>1.35517</td><td>1.35506</td><td>1.35512</td><td>0</td></tr><tr><td>&quot;20230430 23580…</td><td>1.35512</td><td>1.35512</td><td>1.35505</td><td>1.35506</td><td>0</td></tr></tbody></table></div>"
      ],
      "text/plain": [
       "shape: (20_098, 6)\n",
       "┌─────────────────┬─────────┬─────────┬─────────┬─────────┬────────┐\n",
       "│ time            ┆ open    ┆ high    ┆ low     ┆ close   ┆ volume │\n",
       "│ ---             ┆ ---     ┆ ---     ┆ ---     ┆ ---     ┆ ---    │\n",
       "│ str             ┆ f64     ┆ f64     ┆ f64     ┆ f64     ┆ u64    │\n",
       "╞═════════════════╪═════════╪═════════╪═════════╪═════════╪════════╡\n",
       "│ 20230402 180100 ┆ 1.35045 ┆ 1.3505  ┆ 1.35007 ┆ 1.35008 ┆ 0      │\n",
       "│ 20230402 180200 ┆ 1.35008 ┆ 1.35081 ┆ 1.35008 ┆ 1.35078 ┆ 0      │\n",
       "│ 20230402 180300 ┆ 1.35077 ┆ 1.35104 ┆ 1.35077 ┆ 1.35102 ┆ 0      │\n",
       "│ 20230402 180400 ┆ 1.35098 ┆ 1.35098 ┆ 1.35054 ┆ 1.35054 ┆ 0      │\n",
       "│ …               ┆ …       ┆ …       ┆ …       ┆ …       ┆ …      │\n",
       "│ 20230430 235500 ┆ 1.35516 ┆ 1.3552  ┆ 1.35512 ┆ 1.35517 ┆ 0      │\n",
       "│ 20230430 235600 ┆ 1.35514 ┆ 1.35515 ┆ 1.35506 ┆ 1.35506 ┆ 0      │\n",
       "│ 20230430 235700 ┆ 1.35506 ┆ 1.35517 ┆ 1.35506 ┆ 1.35512 ┆ 0      │\n",
       "│ 20230430 235800 ┆ 1.35512 ┆ 1.35512 ┆ 1.35505 ┆ 1.35506 ┆ 0      │\n",
       "└─────────────────┴─────────┴─────────┴─────────┴─────────┴────────┘"
      ]
     },
     "execution_count": 69,
     "metadata": {},
     "output_type": "execute_result"
    }
   ],
   "source": [
    "file_path = \"data_example/DAT_ASCII_USDCAD_M1_202304.csv\"\n",
    "\n",
    "dtypes={\n",
    "    \"time\": pl.Utf8,\n",
    "    \"open\": pl.Float64,\n",
    "    \"high\": pl.Float64,\n",
    "    \"low\": pl.Float64,\n",
    "    \"close\": pl.Float64,\n",
    "    \"volume\": pl.UInt64,\n",
    "}\n",
    "df = pl.read_csv(file_path,separator=\";\",has_header=True,dtypes=dtypes)\n",
    "df\n",
    "\n"
   ]
  },
  {
   "cell_type": "code",
   "execution_count": 106,
   "metadata": {},
   "outputs": [
    {
     "data": {
      "text/plain": [
       "1680472860.0"
      ]
     },
     "execution_count": 106,
     "metadata": {},
     "output_type": "execute_result"
    }
   ],
   "source": [
    "df = pl.read_csv(file_path,separator=\";\",new_columns=new_columns,has_header=True,dtypes=dtypes)\n",
    "\n",
    "df = df.with_columns(\n",
    "   pl.col(\"time\").str.to_datetime(\"%Y%m%d %H%M%S\")\n",
    ")\n",
    "data = df.with_columns(\n",
    "   pl.col(\"time\").apply(lambda x: x.timestamp(), return_dtype=pl.Float64)\n",
    ")"
   ]
  },
  {
   "cell_type": "code",
   "execution_count": 128,
   "metadata": {},
   "outputs": [
    {
     "name": "stdout",
     "output_type": "stream",
     "text": [
      "(datetime.datetime(2023, 4, 2, 18, 1), 1.35045, 1.3505, 1.35007, 1.35008, 0)\n",
      "(datetime.datetime(2023, 4, 2, 18, 1), 1.35045, 1.3505, 1.35007, 1.35008, 0)\n"
     ]
    }
   ],
   "source": [
    "for row in df.rows():\n",
    "    print(row)\n",
    "    print(row)\n",
    "    break"
   ]
  },
  {
   "cell_type": "code",
   "execution_count": 5,
   "metadata": {},
   "outputs": [
    {
     "ename": "ImportError",
     "evalue": "cannot import name 'create_connection' from 'websocket' (/home/tairan-ubuntu/git/back-tester/.venv/lib/python3.11/site-packages/websocket/__init__.py)",
     "output_type": "error",
     "traceback": [
      "\u001b[0;31m---------------------------------------------------------------------------\u001b[0m",
      "\u001b[0;31mImportError\u001b[0m                               Traceback (most recent call last)",
      "Cell \u001b[0;32mIn[5], line 2\u001b[0m\n\u001b[1;32m      1\u001b[0m \u001b[39mimport\u001b[39;00m \u001b[39mjson\u001b[39;00m\n\u001b[0;32m----> 2\u001b[0m \u001b[39mfrom\u001b[39;00m \u001b[39mwebsocket\u001b[39;00m \u001b[39mimport\u001b[39;00m create_connection\n\u001b[1;32m      3\u001b[0m \u001b[39m# Create a WebSocket connection\u001b[39;00m\n\u001b[1;32m      4\u001b[0m ws \u001b[39m=\u001b[39m create_connection(\u001b[39m'\u001b[39m\u001b[39mwss://your_websocket_endpoint\u001b[39m\u001b[39m'\u001b[39m)\n",
      "\u001b[0;31mImportError\u001b[0m: cannot import name 'create_connection' from 'websocket' (/home/tairan-ubuntu/git/back-tester/.venv/lib/python3.11/site-packages/websocket/__init__.py)"
     ]
    }
   ],
   "source": [
    "import json\n",
    "from websocket import create_connection\n",
    "# Create a WebSocket connection\n",
    "ws = create_connection('wss://your_websocket_endpoint')\n",
    "\n",
    "\n",
    "# Assuming you have OHLC bar data as a list of dictionaries\n",
    "ohlc_data = [\n",
    "    {'time': 1622505600, 'open': 100, 'high': 120, 'low': 80, 'close': 110},\n",
    "    {'time': 1622592000, 'open': 110, 'high': 130, 'low': 90, 'close': 120},\n",
    "    # Add more data...\n",
    "]\n",
    "\n",
    "# Iterate over the OHLC bar data and send each bar as a message\n",
    "for bar in ohlc_data:\n",
    "    message = json.dumps(bar)\n",
    "    ws.send(message)\n",
    "\n",
    "# Close the WebSocket connection\n",
    "ws.close()"
   ]
  },
  {
   "cell_type": "code",
   "execution_count": 108,
   "metadata": {},
   "outputs": [
    {
     "data": {
      "text/plain": [
       "1680472860.0"
      ]
     },
     "execution_count": 108,
     "metadata": {},
     "output_type": "execute_result"
    }
   ],
   "source": [
    "data[\"time\"][0]"
   ]
  },
  {
   "cell_type": "code",
   "execution_count": 118,
   "metadata": {},
   "outputs": [
    {
     "data": {
      "text/plain": [
       "5601576.2"
      ]
     },
     "execution_count": 118,
     "metadata": {},
     "output_type": "execute_result"
    }
   ],
   "source": [
    "1680472860.0 / 300"
   ]
  },
  {
   "cell_type": "code",
   "execution_count": 109,
   "metadata": {},
   "outputs": [
    {
     "data": {
      "text/plain": [
       "datetime.datetime(2023, 4, 2, 18, 1)"
      ]
     },
     "execution_count": 109,
     "metadata": {},
     "output_type": "execute_result"
    }
   ],
   "source": [
    "import datetime\n",
    "dt = datetime.datetime.fromtimestamp(1680472860.0)\n",
    "dt"
   ]
  },
  {
   "cell_type": "code",
   "execution_count": 120,
   "metadata": {},
   "outputs": [
    {
     "data": {
      "text/html": [
       "<div><style>\n",
       ".dataframe > thead > tr > th,\n",
       ".dataframe > tbody > tr > td {\n",
       "  text-align: right;\n",
       "}\n",
       "</style>\n",
       "<small>shape: (20_098, 7)</small><table border=\"1\" class=\"dataframe\"><thead><tr><th>time</th><th>open</th><th>high</th><th>low</th><th>close</th><th>volume</th><th>time_group</th></tr><tr><td>f64</td><td>f64</td><td>f64</td><td>f64</td><td>f64</td><td>u64</td><td>f64</td></tr></thead><tbody><tr><td>1.6805e9</td><td>1.35045</td><td>1.3505</td><td>1.35007</td><td>1.35008</td><td>0</td><td>5.601576e6</td></tr><tr><td>1.6805e9</td><td>1.35008</td><td>1.35081</td><td>1.35008</td><td>1.35078</td><td>0</td><td>5.601576e6</td></tr><tr><td>1.6805e9</td><td>1.35077</td><td>1.35104</td><td>1.35077</td><td>1.35102</td><td>0</td><td>5.601576e6</td></tr><tr><td>1.6805e9</td><td>1.35098</td><td>1.35098</td><td>1.35054</td><td>1.35054</td><td>0</td><td>5.601576e6</td></tr><tr><td>1.6805e9</td><td>1.35055</td><td>1.35055</td><td>1.35026</td><td>1.35031</td><td>0</td><td>5.601577e6</td></tr><tr><td>1.6805e9</td><td>1.35038</td><td>1.35066</td><td>1.35038</td><td>1.35065</td><td>0</td><td>5.601577e6</td></tr><tr><td>1.6805e9</td><td>1.35066</td><td>1.35103</td><td>1.35065</td><td>1.35082</td><td>0</td><td>5.601577e6</td></tr><tr><td>1.6805e9</td><td>1.35082</td><td>1.35102</td><td>1.35082</td><td>1.35101</td><td>0</td><td>5.601577e6</td></tr><tr><td>1.6805e9</td><td>1.35102</td><td>1.35102</td><td>1.35101</td><td>1.35101</td><td>0</td><td>5.601577e6</td></tr><tr><td>1.6805e9</td><td>1.3511</td><td>1.35121</td><td>1.35101</td><td>1.3511</td><td>0</td><td>5.601578e6</td></tr><tr><td>1.6805e9</td><td>1.35105</td><td>1.35111</td><td>1.35103</td><td>1.35111</td><td>0</td><td>5.601578e6</td></tr><tr><td>1.6805e9</td><td>1.35112</td><td>1.35117</td><td>1.35101</td><td>1.35101</td><td>0</td><td>5.601578e6</td></tr><tr><td>&hellip;</td><td>&hellip;</td><td>&hellip;</td><td>&hellip;</td><td>&hellip;</td><td>&hellip;</td><td>&hellip;</td></tr><tr><td>1.6829e9</td><td>1.35546</td><td>1.35546</td><td>1.35538</td><td>1.35538</td><td>0</td><td>5.609709e6</td></tr><tr><td>1.6829e9</td><td>1.35538</td><td>1.3554</td><td>1.35533</td><td>1.35535</td><td>0</td><td>5.609709e6</td></tr><tr><td>1.6829e9</td><td>1.35534</td><td>1.35534</td><td>1.35522</td><td>1.35524</td><td>0</td><td>5.609709e6</td></tr><tr><td>1.6829e9</td><td>1.35525</td><td>1.35529</td><td>1.35522</td><td>1.35525</td><td>0</td><td>5.60971e6</td></tr><tr><td>1.6829e9</td><td>1.35526</td><td>1.35526</td><td>1.3552</td><td>1.35521</td><td>0</td><td>5.60971e6</td></tr><tr><td>1.6829e9</td><td>1.35521</td><td>1.35527</td><td>1.35521</td><td>1.35524</td><td>0</td><td>5.60971e6</td></tr><tr><td>1.6829e9</td><td>1.35525</td><td>1.35526</td><td>1.35508</td><td>1.35508</td><td>0</td><td>5.60971e6</td></tr><tr><td>1.6829e9</td><td>1.35507</td><td>1.35518</td><td>1.35507</td><td>1.35516</td><td>0</td><td>5.60971e6</td></tr><tr><td>1.6829e9</td><td>1.35516</td><td>1.3552</td><td>1.35512</td><td>1.35517</td><td>0</td><td>5.609711e6</td></tr><tr><td>1.6829e9</td><td>1.35514</td><td>1.35515</td><td>1.35506</td><td>1.35506</td><td>0</td><td>5.609711e6</td></tr><tr><td>1.6829e9</td><td>1.35506</td><td>1.35517</td><td>1.35506</td><td>1.35512</td><td>0</td><td>5.609711e6</td></tr><tr><td>1.6829e9</td><td>1.35512</td><td>1.35512</td><td>1.35505</td><td>1.35506</td><td>0</td><td>5.609711e6</td></tr></tbody></table></div>"
      ],
      "text/plain": [
       "shape: (20_098, 7)\n",
       "┌──────────┬─────────┬─────────┬─────────┬─────────┬────────┬────────────┐\n",
       "│ time     ┆ open    ┆ high    ┆ low     ┆ close   ┆ volume ┆ time_group │\n",
       "│ ---      ┆ ---     ┆ ---     ┆ ---     ┆ ---     ┆ ---    ┆ ---        │\n",
       "│ f64      ┆ f64     ┆ f64     ┆ f64     ┆ f64     ┆ u64    ┆ f64        │\n",
       "╞══════════╪═════════╪═════════╪═════════╪═════════╪════════╪════════════╡\n",
       "│ 1.6805e9 ┆ 1.35045 ┆ 1.3505  ┆ 1.35007 ┆ 1.35008 ┆ 0      ┆ 5.601576e6 │\n",
       "│ 1.6805e9 ┆ 1.35008 ┆ 1.35081 ┆ 1.35008 ┆ 1.35078 ┆ 0      ┆ 5.601576e6 │\n",
       "│ 1.6805e9 ┆ 1.35077 ┆ 1.35104 ┆ 1.35077 ┆ 1.35102 ┆ 0      ┆ 5.601576e6 │\n",
       "│ 1.6805e9 ┆ 1.35098 ┆ 1.35098 ┆ 1.35054 ┆ 1.35054 ┆ 0      ┆ 5.601576e6 │\n",
       "│ …        ┆ …       ┆ …       ┆ …       ┆ …       ┆ …      ┆ …          │\n",
       "│ 1.6829e9 ┆ 1.35516 ┆ 1.3552  ┆ 1.35512 ┆ 1.35517 ┆ 0      ┆ 5.609711e6 │\n",
       "│ 1.6829e9 ┆ 1.35514 ┆ 1.35515 ┆ 1.35506 ┆ 1.35506 ┆ 0      ┆ 5.609711e6 │\n",
       "│ 1.6829e9 ┆ 1.35506 ┆ 1.35517 ┆ 1.35506 ┆ 1.35512 ┆ 0      ┆ 5.609711e6 │\n",
       "│ 1.6829e9 ┆ 1.35512 ┆ 1.35512 ┆ 1.35505 ┆ 1.35506 ┆ 0      ┆ 5.609711e6 │\n",
       "└──────────┴─────────┴─────────┴─────────┴─────────┴────────┴────────────┘"
      ]
     },
     "execution_count": 120,
     "metadata": {},
     "output_type": "execute_result"
    }
   ],
   "source": [
    "data = data.with_columns(\n",
    "    (pl.col(\"time\") / 300).floor().alias(\"time_group\")\n",
    ")\n",
    "data"
   ]
  }
 ],
 "metadata": {
  "kernelspec": {
   "display_name": ".venv",
   "language": "python",
   "name": "python3"
  },
  "language_info": {
   "codemirror_mode": {
    "name": "ipython",
    "version": 3
   },
   "file_extension": ".py",
   "mimetype": "text/x-python",
   "name": "python",
   "nbconvert_exporter": "python",
   "pygments_lexer": "ipython3",
   "version": "3.11.3"
  },
  "orig_nbformat": 4
 },
 "nbformat": 4,
 "nbformat_minor": 2
}
